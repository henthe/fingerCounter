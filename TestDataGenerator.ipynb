{
 "cells": [
  {
   "cell_type": "markdown",
   "metadata": {},
   "source": [
    "# 1. Install and Import Dependencies"
   ]
  },
  {
   "cell_type": "code",
   "execution_count": null,
   "metadata": {},
   "outputs": [],
   "source": [
    "!pip install mediapipe opencv-python"
   ]
  },
  {
   "cell_type": "code",
   "execution_count": null,
   "metadata": {},
   "outputs": [],
   "source": [
    "import mediapipe as mp\n",
    "import cv2\n",
    "import numpy as np\n",
    "import uuid\n",
    "import os"
   ]
  },
  {
   "cell_type": "code",
   "execution_count": null,
   "metadata": {},
   "outputs": [],
   "source": [
    "mp_drawing = mp.solutions.drawing_utils\n",
    "mp_hands = mp.solutions.hands"
   ]
  },
  {
   "cell_type": "markdown",
   "metadata": {},
   "source": [
    "# 2. Take Output Images "
   ]
  },
  {
   "cell_type": "code",
   "execution_count": null,
   "metadata": {},
   "outputs": [],
   "source": [
    "import cv2\n",
    "import mediapipe as mp\n",
    "import os\n",
    "import time\n",
    "\n",
    "# Initialisation of MediaPipe and Hands\n",
    "mp_hands = mp.solutions.hands\n",
    "mp_drawing = mp.solutions.drawing_utils\n",
    "\n",
    "# do not modify parameters\n",
    "hands = mp_hands.Hands(min_detection_confidence=0.8, min_tracking_confidence=0.5) \n",
    "\n",
    "# set category of current images\n",
    "# {zero, one, two, three, four, five, spock}\n",
    "imageCategory = \"spock\"\n",
    "\n",
    "# folder for images\n",
    "os.makedirs(imageCategory, exist_ok=True) \n",
    "\n",
    "cap = cv2.VideoCapture(0)\n",
    "\n",
    "image_count = 0  \n",
    "\n",
    "while cap.isOpened() and image_count < 100:  # take 100 images\n",
    "    ret, frame = cap.read()\n",
    "    time.sleep(0.5)\n",
    "    \n",
    "    # picture gets taken\n",
    "    #print(\"Cheese\")\n",
    "    \n",
    "    # BGR 2 RGB\n",
    "    image = cv2.cvtColor(frame, cv2.COLOR_BGR2RGB)\n",
    "    \n",
    "    # Flip on horizontal\n",
    "    image = cv2.flip(image, 1)\n",
    "    \n",
    "    # Set flag\n",
    "    image.flags.writeable = False\n",
    "    \n",
    "    # Detections\n",
    "    results = hands.process(image)\n",
    "    \n",
    "    # Set flag to true\n",
    "    image.flags.writeable = True\n",
    "    \n",
    "    # RGB 2 BGR\n",
    "    image = cv2.cvtColor(image, cv2.COLOR_RGB2BGR)\n",
    "    \n",
    "    # create copy of image (before landmarks are drawn) which can be saved later\n",
    "    image_copy = image.copy()\n",
    "    \n",
    "    # Rendering results\n",
    "    if results.multi_hand_landmarks:\n",
    "        for num, hand in enumerate(results.multi_hand_landmarks):\n",
    "            mp_drawing.draw_landmarks(image, hand, mp_hands.HAND_CONNECTIONS, \n",
    "                                    mp_drawing.DrawingSpec(color=(121, 22, 76), thickness=2, circle_radius=4),\n",
    "                                    mp_drawing.DrawingSpec(color=(250, 44, 250), thickness=2, circle_radius=2),\n",
    "                                     )\n",
    "    \n",
    "    # Save the image without landmarks if recognized\n",
    "    if results.multi_hand_landmarks:\n",
    "        image_count += 1\n",
    "        image_filename = f'{imageCategory}/image_{imageCategory}_{image_count}.jpg'\n",
    "        cv2.imwrite(image_filename, image_copy)\n",
    "    \n",
    "    cv2.imshow('Hand Tracking', image)\n",
    "\n",
    "    if cv2.waitKey(10) & 0xFF == ord('q'):\n",
    "        break\n",
    "\n",
    "cap.release()\n",
    "cv2.destroyAllWindows()\n"
   ]
  },
  {
   "cell_type": "markdown",
   "metadata": {},
   "source": [
    "# 3. Rename And Divide Into Test, Train, Verification"
   ]
  },
  {
   "cell_type": "code",
   "execution_count": 4,
   "metadata": {},
   "outputs": [],
   "source": [
    "import os\n",
    "import random\n",
    "import shutil\n",
    "\n",
    "# Source and destination folder paths\n",
    "source_folder =  r\"C:\\Users\\leons\\Documents\\DeepLearning\\DatasetForFingerCounter\\ImagesAlex\" # Replace this with your source folder path\n",
    "\n",
    "training_folder = r\"C:\\Users\\leons\\Documents\\DeepLearning\\DatasetForFingerCounter\\Training\"  # Replace this with your destination folder path\n",
    "test_folder = r\"C:\\Users\\leons\\Documents\\DeepLearning\\DatasetForFingerCounter\\Test\"  # Replace this with your destination folder path\n",
    "verification_folder = r\"C:\\Users\\leons\\Documents\\DeepLearning\\DatasetForFingerCounter\\Verification\"  # Replace this with your destination folder path\n",
    "\n",
    "# Prefix to be added\n",
    "prefix = \"Alex\"\n",
    "\n",
    "# Function to move pictures from each subfolder to the destination folder with a new prefix\n",
    "def move_pictures_with_prefixes(folder_path):\n",
    "    picture_files = [f for f in os.listdir(folder_path) if f.endswith(('.jpg', '.jpeg', '.png', '.gif'))]\n",
    "    random.shuffle(picture_files)\n",
    "\n",
    "    total_pictures = len(picture_files)\n",
    "    # 80% are training data\n",
    "    training_80_percent = int(total_pictures * 0.8)\n",
    "    # 10% are test data\n",
    "    test_10_percent = int(total_pictures * 0.1)\n",
    "    # 10% are verification data\n",
    "    verification_10_percent = int(total_pictures * 0.1)\n",
    "\n",
    "    percentages = [training_80_percent, test_10_percent, verification_10_percent, total_pictures]\n",
    "    folders = [training_folder, test_folder, verification_folder]\n",
    "    \n",
    "    for i, percentage in enumerate(percentages[:-1]):\n",
    "        destination_folder = folders[i]\n",
    "\n",
    "        selected_files = picture_files[:percentage]\n",
    "        picture_files = picture_files[percentage:]\n",
    "\n",
    "        for file_name in selected_files:\n",
    "            file_path = os.path.join(folder_path, file_name)\n",
    "            new_file_name = f\"{prefix}_{file_name}\"\n",
    "            destination_path = os.path.join(destination_folder, new_file_name)\n",
    "            shutil.move(file_path, destination_path)\n",
    "\n",
    "# iterate through all subfolders and do renaming and moving\n",
    "for folder_name in os.listdir(source_folder):\n",
    "    current_folder = os.path.join(source_folder, folder_name)\n",
    "    if os.path.isdir(current_folder):\n",
    "        move_pictures_with_prefixes(current_folder)\n"
   ]
  },
  {
   "cell_type": "code",
   "execution_count": null,
   "metadata": {},
   "outputs": [],
   "source": []
  }
 ],
 "metadata": {
  "kernelspec": {
   "display_name": "Python 3 (ipykernel)",
   "language": "python",
   "name": "python3"
  },
  "language_info": {
   "codemirror_mode": {
    "name": "ipython",
    "version": 3
   },
   "file_extension": ".py",
   "mimetype": "text/x-python",
   "name": "python",
   "nbconvert_exporter": "python",
   "pygments_lexer": "ipython3",
   "version": "3.12.0"
  }
 },
 "nbformat": 4,
 "nbformat_minor": 4
}
