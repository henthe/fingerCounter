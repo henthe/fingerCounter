{
 "cells": [
  {
   "cell_type": "code",
   "execution_count": 51,
   "metadata": {},
   "outputs": [
    {
     "name": "stdout",
     "output_type": "stream",
     "text": [
      "Requirement already satisfied: mediapipe in c:\\users\\henri\\appdata\\local\\programs\\python\\python37\\lib\\site-packages (0.9.0.1)\n",
      "Requirement already satisfied: opencv-python in c:\\users\\henri\\appdata\\local\\programs\\python\\python37\\lib\\site-packages (4.8.1.78)\n",
      "Requirement already satisfied: absl-py in c:\\users\\henri\\appdata\\local\\programs\\python\\python37\\lib\\site-packages (from mediapipe) (2.0.0)\n",
      "Requirement already satisfied: attrs>=19.1.0 in c:\\users\\henri\\appdata\\local\\programs\\python\\python37\\lib\\site-packages (from mediapipe) (23.1.0)\n",
      "Requirement already satisfied: flatbuffers>=2.0 in c:\\users\\henri\\appdata\\local\\programs\\python\\python37\\lib\\site-packages (from mediapipe) (23.5.26)\n",
      "Requirement already satisfied: matplotlib in c:\\users\\henri\\appdata\\local\\programs\\python\\python37\\lib\\site-packages (from mediapipe) (3.5.3)\n",
      "Requirement already satisfied: numpy in c:\\users\\henri\\appdata\\local\\programs\\python\\python37\\lib\\site-packages (from mediapipe) (1.21.6)\n",
      "Requirement already satisfied: opencv-contrib-python in c:\\users\\henri\\appdata\\local\\programs\\python\\python37\\lib\\site-packages (from mediapipe) (4.8.1.78)\n",
      "Requirement already satisfied: protobuf<4,>=3.11 in c:\\users\\henri\\appdata\\local\\programs\\python\\python37\\lib\\site-packages (from mediapipe) (3.20.3)\n",
      "Requirement already satisfied: importlib-metadata in c:\\users\\henri\\appdata\\local\\programs\\python\\python37\\lib\\site-packages (from attrs>=19.1.0->mediapipe) (6.7.0)\n",
      "Requirement already satisfied: cycler>=0.10 in c:\\users\\henri\\appdata\\local\\programs\\python\\python37\\lib\\site-packages (from matplotlib->mediapipe) (0.11.0)\n",
      "Requirement already satisfied: fonttools>=4.22.0 in c:\\users\\henri\\appdata\\local\\programs\\python\\python37\\lib\\site-packages (from matplotlib->mediapipe) (4.38.0)\n",
      "Requirement already satisfied: kiwisolver>=1.0.1 in c:\\users\\henri\\appdata\\local\\programs\\python\\python37\\lib\\site-packages (from matplotlib->mediapipe) (1.4.5)\n",
      "Requirement already satisfied: packaging>=20.0 in c:\\users\\henri\\appdata\\local\\programs\\python\\python37\\lib\\site-packages (from matplotlib->mediapipe) (23.2)\n",
      "Requirement already satisfied: pillow>=6.2.0 in c:\\users\\henri\\appdata\\local\\programs\\python\\python37\\lib\\site-packages (from matplotlib->mediapipe) (9.5.0)\n",
      "Requirement already satisfied: pyparsing>=2.2.1 in c:\\users\\henri\\appdata\\local\\programs\\python\\python37\\lib\\site-packages (from matplotlib->mediapipe) (3.1.1)\n",
      "Requirement already satisfied: python-dateutil>=2.7 in c:\\users\\henri\\appdata\\local\\programs\\python\\python37\\lib\\site-packages (from matplotlib->mediapipe) (2.8.2)\n",
      "Requirement already satisfied: typing-extensions in c:\\users\\henri\\appdata\\local\\programs\\python\\python37\\lib\\site-packages (from kiwisolver>=1.0.1->matplotlib->mediapipe) (4.7.1)\n",
      "Requirement already satisfied: six>=1.5 in c:\\users\\henri\\appdata\\local\\programs\\python\\python37\\lib\\site-packages (from python-dateutil>=2.7->matplotlib->mediapipe) (1.16.0)\n",
      "Requirement already satisfied: zipp>=0.5 in c:\\users\\henri\\appdata\\local\\programs\\python\\python37\\lib\\site-packages (from importlib-metadata->attrs>=19.1.0->mediapipe) (3.15.0)\n",
      "Note: you may need to restart the kernel to use updated packages.\n"
     ]
    },
    {
     "name": "stderr",
     "output_type": "stream",
     "text": [
      "\n",
      "[notice] A new release of pip is available: 23.2.1 -> 23.3.1\n",
      "[notice] To update, run: python.exe -m pip install --upgrade pip\n"
     ]
    }
   ],
   "source": [
    "%pip install mediapipe opencv-python\n",
    "import numpy as np\n",
    "import pandas as pd\n",
    "import matplotlib.pyplot as plt\n",
    "import seaborn as sns\n",
    "\n",
    "import os\n",
    "for dirname, _, filenames in os.walk('/kaggle/input'):\n",
    "    for filename in filenames:\n",
    "        print(os.path.join(dirname, filename))\n",
    "        \n",
    "\n"
   ]
  },
  {
   "cell_type": "code",
   "execution_count": 52,
   "metadata": {},
   "outputs": [],
   "source": [
    "# ignore warnings\n",
    "import warnings\n",
    "warnings.filterwarnings(\"ignore\")"
   ]
  },
  {
   "cell_type": "code",
   "execution_count": 53,
   "metadata": {},
   "outputs": [
    {
     "name": "stdout",
     "output_type": "stream",
     "text": [
      "hier\n",
      "hier\n",
      "hier\n",
      "hier\n",
      "hier\n",
      "hier\n"
     ]
    }
   ],
   "source": [
    "import cv2\n",
    "import mediapipe as mp\n",
    "import os\n",
    "import cv2\n",
    "import mediapipe as mp\n",
    "import pandas as pd\n",
    "\n",
    "# Initialisieren von MediaPipe und Hands\n",
    "mp_hands = mp.solutions.hands\n",
    "mp_drawing = mp.solutions.drawing_utils\n",
    "hands = mp_hands.Hands(min_detection_confidence=0.8, min_tracking_confidence=0.5)\n",
    "\n",
    "# Set the path to the directory containing the images\n",
    "path = r'C:\\Users\\henri\\Documents\\FingerCounterData\\DatasetForFingerCounter'\n",
    "\n",
    "\n",
    "# Create an empty list to store the data\n",
    "data = []\n",
    "\n",
    "# Loop through each subdirectory in the directory\n",
    "for subdir in os.listdir(path):\n",
    "    print(subdir')\n",
    "    subdir_path = os.path.join(path, subdir)\n",
    "    if os.path.isdir(subdir_path) and subdir.startswith('images'):\n",
    "        label = subdir.split('_')[1]\n",
    "        # Loop through each image in the subdirectory\n",
    "        for filename in os.listdir(subdir_path):\n",
    "            if filename.endswith('.jpg'):\n",
    "                image_path = os.path.join(subdir_path, filename)\n",
    "                # Read the image using cv2.imread()\n",
    "                image = cv2.imread(image_path)\n",
    "                # Convert the image from BGR to RGB using cv2.cvtColor()\n",
    "                image_rgb = cv2.cvtColor(image, cv2.COLOR_BGR2RGB)\n",
    "                # Process the image using the hands.process() method\n",
    "                with hands.process(image_rgb) as results:\n",
    "                    # Extract the landmarks from the processed image\n",
    "                    landmarks = results.multi_hand_landmarks\n",
    "                    if landmarks:\n",
    "                        # Extract the label from the subdirectory name\n",
    "                        # Create a dictionary containing the label and the landmarks\n",
    "                        landmark_dict = {'label': label}\n",
    "                        print(landmark_dict)\n",
    "                        for i, landmark in enumerate(landmarks[0].landmark):\n",
    "                            landmark_dict[f'x{i+1}'] = landmark.x\n",
    "                            landmark_dict[f'y{i+1}'] = landmark.y\n",
    "                            landmark_dict[f'z{i+1}'] = landmark.z\n",
    "                        # Append the dictionary to the data list\n",
    "                        data.append(landmark_dict)\n",
    "\n",
    "# Convert the data list to a pandas DataFrame\n",
    "df = pd.DataFrame(data)\n",
    "\n",
    "# Write the DataFrame to a CSV file\n",
    "df.to_csv('landmarks.csv', index=False)\n"
   ]
  },
  {
   "cell_type": "code",
   "execution_count": null,
   "metadata": {},
   "outputs": [],
   "source": [
    "\n"
   ]
  }
 ],
 "metadata": {
  "kernelspec": {
   "display_name": "Python 3",
   "language": "python",
   "name": "python3"
  },
  "language_info": {
   "codemirror_mode": {
    "name": "ipython",
    "version": 3
   },
   "file_extension": ".py",
   "mimetype": "text/x-python",
   "name": "python",
   "nbconvert_exporter": "python",
   "pygments_lexer": "ipython3",
   "version": "3.7.4"
  }
 },
 "nbformat": 4,
 "nbformat_minor": 2
}
