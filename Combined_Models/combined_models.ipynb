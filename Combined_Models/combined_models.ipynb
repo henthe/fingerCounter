{
 "cells": [
  {
   "cell_type": "code",
   "execution_count": 2,
   "metadata": {},
   "outputs": [],
   "source": [
    "import pandas as pd\n",
    "import joblib\n",
    "import flaml"
   ]
  },
  {
   "cell_type": "code",
   "execution_count": 11,
   "metadata": {},
   "outputs": [
    {
     "name": "stdout",
     "output_type": "stream",
     "text": [
      "Test set score: 0.8878\n"
     ]
    }
   ],
   "source": [
    "path = r'C:\\Users\\henri\\Documents\\FingerCounterData\\DatasetForFingerCounter'\n",
    "training_path = path + r'\\training_landmarks.csv'\n",
    "validation_path = path + r'\\validation_landmarks.csv'\n",
    "testing_path = path + r'\\test_landmarks.csv'\n",
    "\n",
    "\n",
    "# Write the DataFrame to a CSV file\n",
    "df = pd.read_csv(training_path)\n",
    "X_train = df[['x0','y0','z0','x1','y1','z1','x2','y2','z2','x3','y3','z3','x4','y4','z4','x5','y5','z5','x6','y6','z6','x7','y7','z7','x8','y8','z8','x9','y9','z9','x10','y10','z10','x11','y11','z11','x12','y12','z12','x13','y13','z13','x14','y14','z14','x15','y15','z15','x16','y16','z16','x17','y17','z17','x18','y18','z18','x19','y19','z19','x20','y20','z20']]\n",
    "y_train = df['filename']\n",
    "y_train = y_train.map(lambda image: image.split('_')[2])\n",
    "\n",
    "\n",
    "# Write the DataFrame to a CSV file\n",
    "df = pd.read_csv(validation_path)\n",
    "X_val = df[['x0','y0','z0','x1','y1','z1','x2','y2','z2','x3','y3','z3','x4','y4','z4','x5','y5','z5','x6','y6','z6','x7','y7','z7','x8','y8','z8','x9','y9','z9','x10','y10','z10','x11','y11','z11','x12','y12','z12','x13','y13','z13','x14','y14','z14','x15','y15','z15','x16','y16','z16','x17','y17','z17','x18','y18','z18','x19','y19','z19','x20','y20','z20']]\n",
    "y_val = df['filename']\n",
    "y_val = y_val.map(lambda image: image.split('_')[2])\n",
    "\n",
    "\n",
    "# Write the DataFrame to a CSV file\n",
    "df = pd.read_csv(testing_path)\n",
    "X_test = df[['x0','y0','z0','x1','y1','z1','x2','y2','z2','x3','y3','z3','x4','y4','z4','x5','y5','z5','x6','y6','z6','x7','y7','z7','x8','y8','z8','x9','y9','z9','x10','y10','z10','x11','y11','z11','x12','y12','z12','x13','y13','z13','x14','y14','z14','x15','y15','z15','x16','y16','z16','x17','y17','z17','x18','y18','z18','x19','y19','z19','x20','y20','z20']]\n",
    "y_test = df['filename']\n",
    "y_test = y_test.map(lambda image: image.split('_')[2])\n",
    "\n",
    "\n",
    "\n",
    "loaded_model = joblib.load(\"C:/Users/henri/Documents/FingerCounter/fingerCounter/LightGBMFingerCounter/flaml_model.joblib\")\n",
    "loaded_model.fit(X_train, y_train)\n",
    "predictions = loaded_model.predict(X_test)\n",
    "print('Test set score: {:.4f}'.format(loaded_model.score(X_test, y_test)))\n"
   ]
  }
 ],
 "metadata": {
  "kernelspec": {
   "display_name": "Python 3",
   "language": "python",
   "name": "python3"
  },
  "language_info": {
   "codemirror_mode": {
    "name": "ipython",
    "version": 3
   },
   "file_extension": ".py",
   "mimetype": "text/x-python",
   "name": "python",
   "nbconvert_exporter": "python",
   "pygments_lexer": "ipython3",
   "version": "3.7.4"
  }
 },
 "nbformat": 4,
 "nbformat_minor": 2
}
